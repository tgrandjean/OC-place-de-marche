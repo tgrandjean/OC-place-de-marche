{
 "cells": [
  {
   "cell_type": "markdown",
   "metadata": {},
   "source": [
    "Place de marché\n",
    "==============\n",
    "\n",
    "![logo](../reports/figures/logo.png)"
   ]
  },
  {
   "cell_type": "markdown",
   "metadata": {},
   "source": [
    "### Votre mission\n",
    "Votre mission est de **réaliser une première étude de faisabilité d'un moteur de classification** d'articles basé sur une image et une description pour l'automatisation de l'attribution de la catégorie de l'article.\n",
    "\n",
    "Pour ce faire, vous allez **évaluer la possibilité d'extraire des données depuis l'API Amazon** en **prenant connaissance de la documentation** et en **écrivant la requête** qui vous permettrait d'extraire des données supplémentaires. Vous vous assurerez ainsi que vous pourrez bien disposer de plus de données et diversifier les sources de données pour éviter les biais pour votre moteur de classification.\n",
    "\n",
    "Ensuite, vous **analyserez le jeu de données** déjà constitué en **réalisant un prétraitement** des images et des descriptions des produits, une **réduction de dimension**, puis un **clustering**. Les résultats du clustering seront présentés sous la forme d’une représentation en deux dimensions à déterminer, qui ’illustrera le fait que les caractéristiques extraites permettent de regrouper des produits de même catégorie.\n",
    "\n",
    "La représentation graphique vous aidera à convaincre Linda que cette approche de modélisation permettra bien de regrouper des produits de même catégorie."
   ]
  },
  {
   "cell_type": "markdown",
   "metadata": {},
   "source": [
    "### Contraintes\n",
    "\n",
    "Linda vous a communiqué les contraintes suivantes :\n",
    "\n",
    "   * Limiter le nombre d’articles pris par l’API (par exemple : 1000 lignes) et filtrer sur un unique type d’article (par exemple un type d’article peu présent dans votre échantillon de données actuelles).\n",
    "   * Afin d’extraire les features, mettre en œuvre a minima un algorithme de type SIFT / ORB / SURF.\n",
    "   * Un algorithme de type CNN Transfer Learning peut éventuellement être utilisé en complément, s’il peut apporter un éclairage supplémentaire à la démonstration."
   ]
  },
  {
   "cell_type": "code",
   "execution_count": null,
   "metadata": {},
   "outputs": [],
   "source": [
    "import os\n",
    "import random\n",
    "\n",
    "import matplotlib.pyplot as plt\n",
    "import numpy as np\n",
    "import pandas as pd\n",
    "import cv2\n",
    "from PIL import Image\n",
    "from IPython.display import display\n",
    "import seaborn as sns\n",
    "\n",
    "sns.set(font_scale=1.5)"
   ]
  },
  {
   "cell_type": "markdown",
   "metadata": {},
   "source": [
    "## Chargement des données"
   ]
  },
  {
   "cell_type": "code",
   "execution_count": null,
   "metadata": {},
   "outputs": [],
   "source": [
    "for dirname, _, filenames in os.walk('../data/raw/'):\n",
    "    if len(filenames) == 1:\n",
    "        df = pd.read_csv(os.path.join(dirname, filenames[0]))"
   ]
  },
  {
   "cell_type": "code",
   "execution_count": null,
   "metadata": {},
   "outputs": [],
   "source": [
    "df.head()"
   ]
  },
  {
   "cell_type": "code",
   "execution_count": null,
   "metadata": {},
   "outputs": [],
   "source": [
    "df['path'] = df['image'].apply(lambda x: os.path.join('../data/raw/Images/', x))"
   ]
  },
  {
   "cell_type": "code",
   "execution_count": null,
   "metadata": {},
   "outputs": [],
   "source": [
    "col_to_drop = [\n",
    "    'uniq_id',\n",
    "    'crawl_timestamp',\n",
    "    'product_url',\n",
    "    'pid',\n",
    "    'discounted_price',\n",
    "    'is_FK_Advantage_product',\n",
    "    'product_rating',\n",
    "    'overall_rating',\n",
    "    'product_specifications',\n",
    "#     'brand',\n",
    "    \n",
    "]\n",
    "df.drop(columns=col_to_drop, inplace=True)"
   ]
  },
  {
   "cell_type": "code",
   "execution_count": null,
   "metadata": {},
   "outputs": [],
   "source": [
    "df.head()"
   ]
  },
  {
   "cell_type": "code",
   "execution_count": null,
   "metadata": {},
   "outputs": [],
   "source": [
    "df.loc[1, 'product_category_tree']"
   ]
  },
  {
   "cell_type": "code",
   "execution_count": null,
   "metadata": {},
   "outputs": [],
   "source": [
    "df['product_category_tree_len'] = df['product_category_tree'].apply(lambda x: len(x.split('>>')))"
   ]
  },
  {
   "cell_type": "code",
   "execution_count": null,
   "metadata": {},
   "outputs": [],
   "source": [
    "sns.distplot(df['product_category_tree_len'], kde=False)"
   ]
  },
  {
   "cell_type": "code",
   "execution_count": null,
   "metadata": {},
   "outputs": [],
   "source": [
    "df[df['product_category_tree_len'] == 2].loc[873, 'description']"
   ]
  },
  {
   "cell_type": "code",
   "execution_count": null,
   "metadata": {},
   "outputs": [],
   "source": [
    "df[df['product_category_tree_len'] == 2].loc[873, 'product_category_tree']"
   ]
  },
  {
   "cell_type": "code",
   "execution_count": null,
   "metadata": {},
   "outputs": [],
   "source": [
    "def extract_level(tree_str, level=-1, strict=False):\n",
    "    \"\"\"return a specific level from product_category_tree.\n",
    "    tips: specify a negative index to access latest part of the tree.\n",
    "    \"\"\"\n",
    "    tree_str = eval(tree_str)[0]\n",
    "    levels = tree_str.split('>>')\n",
    "    levels = list(map(lambda x: x.strip(), levels))\n",
    "    if strict:\n",
    "        return levels[level]\n",
    "    else:\n",
    "        try:\n",
    "            return levels[level]\n",
    "        except IndexError:\n",
    "            return None"
   ]
  },
  {
   "cell_type": "code",
   "execution_count": null,
   "metadata": {},
   "outputs": [],
   "source": [
    "df['product_category_tree'].apply(extract_level, level=-2)"
   ]
  },
  {
   "cell_type": "code",
   "execution_count": null,
   "metadata": {},
   "outputs": [],
   "source": [
    "_, ax = plt.subplots(1, figsize=(8, 8))\n",
    "\n",
    "top_10 = df['product_category_tree'].apply(extract_level, level=1).value_counts().iloc[:15].index.tolist()\n",
    "\n",
    "\n",
    "sns.countplot(y=df['product_category_tree']\\\n",
    "                    .apply(extract_level, level=1)\\\n",
    "                    .apply(lambda x: 'other' if x not in top_10 else x),\n",
    "              order=df['product_category_tree']\\\n",
    "                    .apply(extract_level, level=1)\\\n",
    "                    .apply(lambda x: 'other' if x not in top_10 else x)\\\n",
    "                    .value_counts().index)\n",
    "\n",
    "plt.ylabel('Categories')\n",
    "print('number of modalities : %i' % df['product_category_tree'].apply(extract_level, level=1).value_counts().shape[0])"
   ]
  },
  {
   "cell_type": "code",
   "execution_count": null,
   "metadata": {},
   "outputs": [],
   "source": [
    "_, ax = plt.subplots(1, figsize=(8, 8))\n",
    "\n",
    "top_10 = df['product_category_tree'].apply(extract_level, level=-2).value_counts().iloc[:15].index.tolist()\n",
    "\n",
    "\n",
    "sns.countplot(y=df['product_category_tree']\\\n",
    "                    .apply(extract_level, level=-2)\\\n",
    "                    .apply(lambda x: 'other' if x not in top_10 else x),\n",
    "              order=df['product_category_tree']\\\n",
    "                    .apply(extract_level, level=-2)\\\n",
    "                    .apply(lambda x: 'other' if x not in top_10 else x)\\\n",
    "                    .value_counts().index)\n",
    "\n",
    "plt.ylabel('Categories')\n",
    "print('number of modalities : %i' % df['product_category_tree'].apply(extract_level, level=-2).value_counts().shape[0])"
   ]
  },
  {
   "cell_type": "code",
   "execution_count": null,
   "metadata": {},
   "outputs": [],
   "source": [
    "LEVEL = 1\n",
    "\n",
    "_, ax = plt.subplots(1, figsize=(8, 8))\n",
    "\n",
    "top_10 = df['product_category_tree'].apply(extract_level, level=LEVEL).value_counts().iloc[:15].index.tolist()\n",
    "\n",
    "\n",
    "sns.countplot(y=df['product_category_tree']\\\n",
    "                    .apply(extract_level, level=LEVEL)\\\n",
    "                    .apply(lambda x: 'other' if x not in top_10 else x),\n",
    "              order=df['product_category_tree']\\\n",
    "                    .apply(extract_level, level=LEVEL)\\\n",
    "                    .apply(lambda x: 'other' if x not in top_10 else x)\\\n",
    "                    .value_counts().index)\n",
    "\n",
    "plt.ylabel('Categories')\n",
    "print('number of modalities : %i' % df['product_category_tree']\\\n",
    "          .apply(extract_level, level=LEVEL).value_counts().shape[0])"
   ]
  },
  {
   "cell_type": "code",
   "execution_count": null,
   "metadata": {},
   "outputs": [],
   "source": [
    "def scale_down(image, factor=5):\n",
    "    width, height = image.size\n",
    "    target_width, target_height = width // factor, height // factor\n",
    "    return image.resize((target_width, target_height))\n",
    "\n",
    "images = [scale_down(Image.open(x), factor=5) for x in df['path']]"
   ]
  },
  {
   "cell_type": "code",
   "execution_count": null,
   "metadata": {},
   "outputs": [],
   "source": [
    "size = 10\n",
    "f, axes = plt.subplots(size, size, figsize=(12, 12))\n",
    "for ax, im in zip(axes.flatten(), random.sample(images, size ** 2)):\n",
    "    ax.imshow(im, cmap='gray', aspect='auto')\n",
    "    ax.set_xticks([])\n",
    "    ax.set_yticks([])  # to hide tick values on X and Y axis"
   ]
  },
  {
   "cell_type": "code",
   "execution_count": null,
   "metadata": {},
   "outputs": [],
   "source": [
    "df['size'] = df['path'].apply(lambda x: Image.open(x).size)"
   ]
  },
  {
   "cell_type": "code",
   "execution_count": null,
   "metadata": {},
   "outputs": [],
   "source": [
    "df['size']"
   ]
  },
  {
   "cell_type": "code",
   "execution_count": null,
   "metadata": {},
   "outputs": [],
   "source": [
    "df['width'] = df['size'].apply(lambda x: x[0])"
   ]
  },
  {
   "cell_type": "code",
   "execution_count": null,
   "metadata": {},
   "outputs": [],
   "source": [
    "df['height'] = df['size'].apply(lambda x: x[1])"
   ]
  },
  {
   "cell_type": "code",
   "execution_count": null,
   "metadata": {},
   "outputs": [],
   "source": [
    "def distplot(series, **kwargs):\n",
    "    \"\"\"Create a figure with two subplots.\n",
    "    The lower part of the figure is distplot and the upper part display\n",
    "    a box plot for the same sample.\n",
    "\n",
    "    :arg:\n",
    "        series (pd.Series): The sample you want to plot.\n",
    "        kwargs : all keyword argument accepted by seaborn.distplot.\n",
    "    \"\"\"\n",
    "    # Cut the window in 2 parts\n",
    "    kwrgs = {\"height_ratios\": (.15, .85)}\n",
    "    f, (ax_box, ax_hist) = plt.subplots(2, sharex=True, figsize=(8, 8),\n",
    "                                        gridspec_kw=kwrgs)\n",
    "\n",
    "    # Add a graph in each part\n",
    "    sns.boxplot(series, ax=ax_box)\n",
    "    sns.distplot(series, ax=ax_hist, **kwargs)\n",
    "\n",
    "    # Remove x axis name for the boxplot\n",
    "    ax_box.set(xlabel='')\n",
    "    return ax"
   ]
  },
  {
   "cell_type": "code",
   "execution_count": null,
   "metadata": {},
   "outputs": [],
   "source": [
    "distplot(df['width'])"
   ]
  },
  {
   "cell_type": "code",
   "execution_count": null,
   "metadata": {},
   "outputs": [],
   "source": [
    "distplot(df['height'])"
   ]
  },
  {
   "cell_type": "code",
   "execution_count": null,
   "metadata": {},
   "outputs": [],
   "source": [
    "df['width'].describe()"
   ]
  },
  {
   "cell_type": "code",
   "execution_count": null,
   "metadata": {},
   "outputs": [],
   "source": [
    "df['height'].describe()"
   ]
  },
  {
   "cell_type": "code",
   "execution_count": null,
   "metadata": {},
   "outputs": [],
   "source": [
    "df['nb_pix'] = df['width'] * df['height']"
   ]
  },
  {
   "cell_type": "code",
   "execution_count": null,
   "metadata": {},
   "outputs": [],
   "source": [
    "df['nb_pix'].describe()"
   ]
  },
  {
   "cell_type": "code",
   "execution_count": null,
   "metadata": {},
   "outputs": [],
   "source": [
    "df[df['nb_pix'] == df['nb_pix'].max()]"
   ]
  },
  {
   "cell_type": "code",
   "execution_count": null,
   "metadata": {},
   "outputs": [],
   "source": [
    "count = df['product_category_tree'].apply(extract_level, level=0).value_counts()"
   ]
  },
  {
   "cell_type": "code",
   "execution_count": null,
   "metadata": {},
   "outputs": [],
   "source": [
    "count"
   ]
  },
  {
   "cell_type": "code",
   "execution_count": null,
   "metadata": {},
   "outputs": [],
   "source": []
  }
 ],
 "metadata": {
  "kernelspec": {
   "display_name": "place-de-marche",
   "language": "python",
   "name": "place-de-marche"
  },
  "language_info": {
   "codemirror_mode": {
    "name": "ipython",
    "version": 3
   },
   "file_extension": ".py",
   "mimetype": "text/x-python",
   "name": "python",
   "nbconvert_exporter": "python",
   "pygments_lexer": "ipython3",
   "version": "3.7.4"
  },
  "toc": {
   "base_numbering": 1,
   "nav_menu": {},
   "number_sections": true,
   "sideBar": true,
   "skip_h1_title": false,
   "title_cell": "Table of Contents",
   "title_sidebar": "Contents",
   "toc_cell": false,
   "toc_position": {},
   "toc_section_display": true,
   "toc_window_display": false
  },
  "varInspector": {
   "cols": {
    "lenName": 16,
    "lenType": 16,
    "lenVar": 40
   },
   "kernels_config": {
    "python": {
     "delete_cmd_postfix": "",
     "delete_cmd_prefix": "del ",
     "library": "var_list.py",
     "varRefreshCmd": "print(var_dic_list())"
    },
    "r": {
     "delete_cmd_postfix": ") ",
     "delete_cmd_prefix": "rm(",
     "library": "var_list.r",
     "varRefreshCmd": "cat(var_dic_list()) "
    }
   },
   "types_to_exclude": [
    "module",
    "function",
    "builtin_function_or_method",
    "instance",
    "_Feature"
   ],
   "window_display": false
  }
 },
 "nbformat": 4,
 "nbformat_minor": 2
}
